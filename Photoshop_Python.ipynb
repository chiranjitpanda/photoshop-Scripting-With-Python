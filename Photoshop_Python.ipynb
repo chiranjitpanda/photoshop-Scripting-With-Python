{
 "cells": [
  {
   "cell_type": "code",
   "execution_count": 1,
   "metadata": {},
   "outputs": [],
   "source": [
    "## import the necessary libaries to connect the photoshop software\n",
    "\n",
    "import win32com.client\n",
    "import os\n",
    "\n"
   ]
  },
  {
   "cell_type": "code",
   "execution_count": 2,
   "metadata": {},
   "outputs": [],
   "source": [
    "## To call our computer Dispatch method is used and after it can open \n",
    "\n",
    "## photoshop application in the background\n",
    "\n",
    "psApp = win32com.client.Dispatch(\"Photoshop.Application\")"
   ]
  },
  {
   "cell_type": "code",
   "execution_count": 3,
   "metadata": {},
   "outputs": [
    {
     "data": {
      "text/plain": [
       "<COMObject Open>"
      ]
     },
     "execution_count": 3,
     "metadata": {},
     "output_type": "execute_result"
    }
   ],
   "source": [
    "## To open the actual file\n",
    "\n",
    "psApp.Open(r'C:\\\\Users\\\\HP\\\\Downloads\\\\esport.jpg')"
   ]
  },
  {
   "cell_type": "code",
   "execution_count": 4,
   "metadata": {},
   "outputs": [],
   "source": [
    "## to Edit Photoshop Text Layer with Python\n",
    "\n",
    "doc = psApp.Application.ActiveDocument"
   ]
  },
  {
   "cell_type": "code",
   "execution_count": 7,
   "metadata": {},
   "outputs": [],
   "source": [
    "## to refferenece the correct layer Then you can change also the content\n",
    "\n",
    "layerText =doc.ArtLayers['New Text']\n",
    "text_of_layer = layerText.TextItem\n",
    "text_of_layer.contents = \"Really Simple\"\n"
   ]
  },
  {
   "cell_type": "code",
   "execution_count": 10,
   "metadata": {},
   "outputs": [],
   "source": [
    "## can change  also the size\n",
    "\n",
    "text_of_layer.size = 48"
   ]
  },
  {
   "cell_type": "code",
   "execution_count": 12,
   "metadata": {},
   "outputs": [],
   "source": [
    "## resize images\n",
    "\n",
    "doc.ResizeImage(Width=750,\n",
    "                Height=750,\n",
    "                )"
   ]
  },
  {
   "cell_type": "code",
   "execution_count": 17,
   "metadata": {},
   "outputs": [],
   "source": [
    "## To Export the .png image\n",
    "## first we originally open the app\n",
    "\n",
    "options = win32com.client.Dispatch('Photoshop.ExportOptionsSaveForWeb')\n",
    "\n",
    "options.Format = 13  # png format\n",
    "\n",
    "# we want to export the best quality image possible and and we want png 24 bits that why we give False\n",
    "\n",
    "options.PNG8 = False\n",
    "\n",
    "pngfile  = r\"C:\\\\Users\\\\HP\\\\Desktop\\\\export.png\"\n",
    "\n",
    "doc.Export(ExportIn=pngfile,ExportAs=2,Options=options)"
   ]
  },
  {
   "cell_type": "code",
   "execution_count": null,
   "metadata": {},
   "outputs": [],
   "source": []
  },
  {
   "cell_type": "code",
   "execution_count": 19,
   "metadata": {},
   "outputs": [],
   "source": [
    "## To Export the .jpg image\n",
    "## first we originally open the app\n",
    "\n",
    "options = win32com.client.Dispatch('Photoshop.ExportOptionsSaveForWeb')\n",
    "\n",
    "options.Format = 6 # jpg format\n",
    "\n",
    "# we want to export the best quality image possible and and we want png 24 bits that why we give False\n",
    "\n",
    "options.Quality = 100\n",
    "\n",
    "jpgfile  = r\"C:\\\\Users\\\\HP\\\\Desktop\\\\newfile.jpg\"\n",
    "\n",
    "doc.Export(ExportIn=jpgfile,ExportAs=2,Options=options)"
   ]
  },
  {
   "cell_type": "code",
   "execution_count": null,
   "metadata": {},
   "outputs": [],
   "source": []
  }
 ],
 "metadata": {
  "kernelspec": {
   "display_name": "Python 3",
   "language": "python",
   "name": "python3"
  },
  "language_info": {
   "codemirror_mode": {
    "name": "ipython",
    "version": 3
   },
   "file_extension": ".py",
   "mimetype": "text/x-python",
   "name": "python",
   "nbconvert_exporter": "python",
   "pygments_lexer": "ipython3",
   "version": "3.7.3"
  }
 },
 "nbformat": 4,
 "nbformat_minor": 2
}
